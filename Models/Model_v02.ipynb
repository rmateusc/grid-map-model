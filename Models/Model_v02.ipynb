{
 "cells": [
  {
   "cell_type": "markdown",
   "id": "c53b0503",
   "metadata": {},
   "source": [
    "# 0. Import Libraries"
   ]
  },
  {
   "cell_type": "code",
   "execution_count": 1,
   "id": "e2449990",
   "metadata": {},
   "outputs": [],
   "source": [
    "import geopandas as gpd\n",
    "from shapely.geometry import Polygon\n",
    "import numpy as np\n",
    "import matplotlib.pyplot as plt\n",
    "import shapely.geometry"
   ]
  },
  {
   "cell_type": "markdown",
   "id": "59fc0938",
   "metadata": {},
   "source": [
    "# 1. Load Data"
   ]
  },
  {
   "cell_type": "markdown",
   "id": "e05d7735",
   "metadata": {},
   "source": [
    "## Map"
   ]
  },
  {
   "cell_type": "code",
   "execution_count": 2,
   "id": "2c65907c",
   "metadata": {},
   "outputs": [],
   "source": [
    "bello_map=gpd.read_file('/Users/rafaelmateus/Desktop/Modelo_PI/data/maps/BELLO_MAPA/bello_map.shp')\n",
    "veredas_map=gpd.read_file('/Users/rafaelmateus/Desktop/Modelo_PI/data/maps/BELLO_VEREDAS/bello_veredas.shp')"
   ]
  },
  {
   "cell_type": "markdown",
   "id": "11d1f35d",
   "metadata": {},
   "source": [
    "## Data"
   ]
  },
  {
   "cell_type": "code",
   "execution_count": null,
   "id": "f3296bd1",
   "metadata": {},
   "outputs": [],
   "source": []
  },
  {
   "cell_type": "markdown",
   "id": "d03dbee4",
   "metadata": {},
   "source": [
    "# 2. Define grid"
   ]
  },
  {
   "cell_type": "code",
   "execution_count": 3,
   "id": "29fcb795",
   "metadata": {},
   "outputs": [],
   "source": [
    "# Create square grid\n",
    "xmin, ymin, xmax, ymax = bello_map.total_bounds\n",
    "\n",
    "n_cells=30\n",
    "cell_size = (xmax-xmin)/n_cells\n",
    "\n",
    "\n",
    "grid_cells = []\n",
    "for x0 in np.arange(xmin, xmax+cell_size, cell_size ):\n",
    "    for y0 in np.arange(ymin, ymax+cell_size, cell_size):\n",
    "        # bounds\n",
    "        x1 = x0-cell_size\n",
    "        y1 = y0+cell_size\n",
    "        grid_cells.append( shapely.geometry.box(x0, y0, x1, y1)  )\n",
    "cell = gpd.GeoDataFrame(grid_cells, columns=['geometry'])"
   ]
  },
  {
   "cell_type": "code",
   "execution_count": 4,
   "id": "142b704e",
   "metadata": {},
   "outputs": [
    {
     "name": "stderr",
     "output_type": "stream",
     "text": [
      "/opt/anaconda3/envs/pi_env/lib/python3.9/site-packages/IPython/core/interactiveshell.py:3169: UserWarning: CRS mismatch between the CRS of left geometries and the CRS of right geometries.\n",
      "Use `to_crs()` to reproject one of the input geometries to match the CRS of the other.\n",
      "\n",
      "Left CRS: EPSG:4326\n",
      "Right CRS: None\n",
      "\n",
      "  has_raised = await self.run_ast_nodes(code_ast.body, cell_name,\n"
     ]
    }
   ],
   "source": [
    "# Check if grid cell inside grid\n",
    "in_shape=[]\n",
    "for i in range(len(cell)):\n",
    "    small=cell.iloc[i].values\n",
    "    big = bello_map.geometry.values\n",
    "    in_shape.append(big.contains(small)[0])"
   ]
  },
  {
   "cell_type": "code",
   "execution_count": 5,
   "id": "fd2344ea",
   "metadata": {},
   "outputs": [],
   "source": [
    "# Add new column with boolean\n",
    "cell['in_map']=in_shape"
   ]
  },
  {
   "cell_type": "code",
   "execution_count": 6,
   "id": "7a4cf108",
   "metadata": {},
   "outputs": [
    {
     "data": {
      "text/html": [
       "<div>\n",
       "<style scoped>\n",
       "    .dataframe tbody tr th:only-of-type {\n",
       "        vertical-align: middle;\n",
       "    }\n",
       "\n",
       "    .dataframe tbody tr th {\n",
       "        vertical-align: top;\n",
       "    }\n",
       "\n",
       "    .dataframe thead th {\n",
       "        text-align: right;\n",
       "    }\n",
       "</style>\n",
       "<table border=\"1\" class=\"dataframe\">\n",
       "  <thead>\n",
       "    <tr style=\"text-align: right;\">\n",
       "      <th></th>\n",
       "      <th>geometry</th>\n",
       "      <th>in_map</th>\n",
       "    </tr>\n",
       "  </thead>\n",
       "  <tbody>\n",
       "    <tr>\n",
       "      <th>75</th>\n",
       "      <td>POLYGON ((-75.66360 6.36403, -75.66360 6.36916...</td>\n",
       "      <td>True</td>\n",
       "    </tr>\n",
       "    <tr>\n",
       "      <th>76</th>\n",
       "      <td>POLYGON ((-75.66360 6.36916, -75.66360 6.37428...</td>\n",
       "      <td>True</td>\n",
       "    </tr>\n",
       "    <tr>\n",
       "      <th>77</th>\n",
       "      <td>POLYGON ((-75.66360 6.37428, -75.66360 6.37941...</td>\n",
       "      <td>True</td>\n",
       "    </tr>\n",
       "    <tr>\n",
       "      <th>104</th>\n",
       "      <td>POLYGON ((-75.65847 6.35891, -75.65847 6.36403...</td>\n",
       "      <td>True</td>\n",
       "    </tr>\n",
       "    <tr>\n",
       "      <th>105</th>\n",
       "      <td>POLYGON ((-75.65847 6.36403, -75.65847 6.36916...</td>\n",
       "      <td>True</td>\n",
       "    </tr>\n",
       "    <tr>\n",
       "      <th>...</th>\n",
       "      <td>...</td>\n",
       "      <td>...</td>\n",
       "    </tr>\n",
       "    <tr>\n",
       "      <th>855</th>\n",
       "      <td>POLYGON ((-75.53037 6.36403, -75.53037 6.36916...</td>\n",
       "      <td>True</td>\n",
       "    </tr>\n",
       "    <tr>\n",
       "      <th>881</th>\n",
       "      <td>POLYGON ((-75.52525 6.34354, -75.52525 6.34866...</td>\n",
       "      <td>True</td>\n",
       "    </tr>\n",
       "    <tr>\n",
       "      <th>882</th>\n",
       "      <td>POLYGON ((-75.52525 6.34866, -75.52525 6.35379...</td>\n",
       "      <td>True</td>\n",
       "    </tr>\n",
       "    <tr>\n",
       "      <th>883</th>\n",
       "      <td>POLYGON ((-75.52525 6.35379, -75.52525 6.35891...</td>\n",
       "      <td>True</td>\n",
       "    </tr>\n",
       "    <tr>\n",
       "      <th>884</th>\n",
       "      <td>POLYGON ((-75.52525 6.35891, -75.52525 6.36403...</td>\n",
       "      <td>True</td>\n",
       "    </tr>\n",
       "  </tbody>\n",
       "</table>\n",
       "<p>389 rows × 2 columns</p>\n",
       "</div>"
      ],
      "text/plain": [
       "                                              geometry  in_map\n",
       "75   POLYGON ((-75.66360 6.36403, -75.66360 6.36916...    True\n",
       "76   POLYGON ((-75.66360 6.36916, -75.66360 6.37428...    True\n",
       "77   POLYGON ((-75.66360 6.37428, -75.66360 6.37941...    True\n",
       "104  POLYGON ((-75.65847 6.35891, -75.65847 6.36403...    True\n",
       "105  POLYGON ((-75.65847 6.36403, -75.65847 6.36916...    True\n",
       "..                                                 ...     ...\n",
       "855  POLYGON ((-75.53037 6.36403, -75.53037 6.36916...    True\n",
       "881  POLYGON ((-75.52525 6.34354, -75.52525 6.34866...    True\n",
       "882  POLYGON ((-75.52525 6.34866, -75.52525 6.35379...    True\n",
       "883  POLYGON ((-75.52525 6.35379, -75.52525 6.35891...    True\n",
       "884  POLYGON ((-75.52525 6.35891, -75.52525 6.36403...    True\n",
       "\n",
       "[389 rows x 2 columns]"
      ]
     },
     "execution_count": 6,
     "metadata": {},
     "output_type": "execute_result"
    }
   ],
   "source": [
    "# Only use grid cells that are within the map\n",
    "grid = cell[cell.in_map==True] \n",
    "grid"
   ]
  },
  {
   "cell_type": "code",
   "execution_count": 7,
   "id": "e9628f88",
   "metadata": {},
   "outputs": [
    {
     "data": {
      "image/png": "[encoded data removed]",
      "text/plain": [
       "<Figure size 720x720 with 1 Axes>"
      ]
     },
     "metadata": {
      "needs_background": "light"
     },
     "output_type": "display_data"
    }
   ],
   "source": [
    "# Plot grid and map\n",
    "ax = bello_map.plot(color='white', edgecolor='red', markersize=.1,  figsize=(10, 10))\n",
    "plt.autoscale(False)\n",
    "grid.plot(ax=ax, facecolor=\"none\", edgecolor='grey')\n",
    "ax.axis(\"off\")\n",
    "plt.show()"
   ]
  },
  {
   "cell_type": "code",
   "execution_count": 9,
   "id": "26672ce6",
   "metadata": {},
   "outputs": [],
   "source": [
    "# Delete in_map column as it is not necesarry anymore\n",
    "del grid['in_map']"
   ]
  },
  {
   "cell_type": "markdown",
   "id": "c2be4bcb",
   "metadata": {},
   "source": [
    "# 3. Load data into grid"
   ]
  },
  {
   "cell_type": "code",
   "execution_count": null,
   "id": "41548caa",
   "metadata": {},
   "outputs": [],
   "source": []
  },
  {
   "cell_type": "code",
   "execution_count": null,
   "id": "99ecb2a0",
   "metadata": {},
   "outputs": [],
   "source": []
  },
  {
   "cell_type": "markdown",
   "id": "87e85ae9",
   "metadata": {},
   "source": [
    "# 4. Create Classes"
   ]
  },
  {
   "cell_type": "markdown",
   "id": "f491516d",
   "metadata": {},
   "source": [
    "## 4.1. Simulation Builder"
   ]
  },
  {
   "cell_type": "code",
   "execution_count": 11,
   "id": "16cf831a",
   "metadata": {},
   "outputs": [],
   "source": [
    "class SimulationBuilder:\n",
    "    \n",
    "    # Define constants\n",
    "    naturalEmergenceRate=0.3\n",
    "    deathRate=0.071428571428571\n",
    "    mosquitoCarryingCapacity=1000\n",
    "    mosquitoBiteDemand=0.5\n",
    "    maxBitesPerHuman=19\n",
    "    probabilityOfTransmissionHToM=0.333"
   ]
  },
  {
   "cell_type": "markdown",
   "id": "89867f5b",
   "metadata": {},
   "source": [
    "## 4.2. Humans & Patches"
   ]
  },
  {
   "cell_type": "code",
   "execution_count": 13,
   "id": "209edc69",
   "metadata": {},
   "outputs": [],
   "source": [
    "# Poner type annotations\n",
    "\n",
    "class Human:\n",
    "    \n",
    "    # Define constants\n",
    "    naturalEmergenceRate = SimulationBuilder.naturalEmergenceRate\n",
    "    deathRate = SimulationBuilder.deathRate\n",
    "    mosquitoCarryingCapacity = SimulationBuilder.mosquitoCarryingCapacity\n",
    "    mosquitoBiteDemand = SimulationBuilder.mosquitoBiteDemand\n",
    "    maxBitesPerHuman = SimulationBuilder.maxBitesPerHuman\n",
    "    probabilityOfTransmissionHToM = SimulationBuilder.probabilityOfTransmissionHToM\n",
    "\n",
    "    # Constructor\n",
    "    def __init__(self, grid, infectionState, age, timeSinceSuccesfullBite, timeSinceInfection, homeLocation):\n",
    "        self.grid = grid\n",
    "        self.infectionState = infectionState\n",
    "        self.age = age\n",
    "        self.timeSinceSuccesfullBite = timeSinceSuccesfullBite\n",
    "        self.timeSinceInfection = timeSinceInfection\n",
    "        self.homeLocation = homeLocation\n",
    "        \n",
    "    def calculateInfectionProbabilityHuman():\n",
    "        \n",
    "        \n",
    "    \n",
    "        "
   ]
  },
  {
   "cell_type": "code",
   "execution_count": 12,
   "id": "4a0b11d2",
   "metadata": {},
   "outputs": [],
   "source": [
    "class MyPatch:\n",
    "    \n",
    "    # Define constants\n",
    "    naturalEmergenceRate = SimulationBuilder.naturalEmergenceRate\n",
    "    deathRate = SimulationBuilder.deathRate\n",
    "    mosquitoCarryingCapacity = SimulationBuilder.mosquitoCarryingCapacity\n",
    "    mosquitoBiteDemand = SimulationBuilder.mosquitoBiteDemand\n",
    "    maxBitesPerHuman = SimulationBuilder.maxBitesPerHuman\n",
    "    probabilityOfTransmissionHToM = SimulationBuilder.probabilityOfTransmissionHToM\n",
    "    \n",
    "    # Constructor\n",
    "    def __init__(self, suceptibleMosquitoes: float, exposedMosquitoes: float, infectedMosquitoes: float, temperaturePatch: int, patchType: int):\n",
    "        self.suceptibleMosquitoes = suceptibleMosquitoes\n",
    "        self.exposedMosquitoes = exposedMosquitoes\n",
    "        self.infectedMosquitoes = infectedMosquitoes\n",
    "        self.temperaturePatch = temperaturePatch\n",
    "        self.patchType = patchType\n",
    "        \n",
    "    def recalculateSEIR(x, y):\n",
    "        timeStep=0.1\n",
    "        solveRK4(timeStep, x, y)\n",
    "        \n",
    "    def solveRK4(h, x, y):\n",
    "        niter = 1/h\n",
    "        s0 = self.suceptibleMosquitoes\n",
    "        e0 = self.exposedMosquitoes\n",
    "        i0 = self.infectedMosquitoes\n",
    "        \n",
    "        birthRate = calculateBirthRate()\n",
    "        infectionRate = calculateInfectionRate(x,y)\n",
    "        \n",
    "        i=1\n",
    "        while(i<=niter):\n",
    "            k1i = h*infected_function(s0,e0,i0)\n",
    "            k1e = h*exposed_function(s0,e0,i0,infectionRate)\n",
    "            k1s = h*suceptible_function(s0,e0,i0,birthRate,infectionRate)\n",
    "            \n",
    "            k2i = h*infected_function(s0+k1s/2,e0+k1e/2,i0+k1i/2)\n",
    "            k2e = h*exposed_function(s0+k1s/2,e0+k1e/2,i0+k1i/2,infectionRate)\n",
    "            k2s = h*suceptible_function(s0+k1s/2,e0+k1e/2,i0+k1i/2,birthRate,infectionRate)\n",
    "            \n",
    "            k3i = h*infected_function(s0+k2s/2,e0+k2e/2,i0+k2i/2)\n",
    "            k3e = h*exposed_function(s0+k2s/2,e0+k2e/2,i0+k2i/2,infectionRate)\n",
    "            k3s = h*suceptible_function(s0+k2s/2,e0+k2e/2,i0+k2i/2,birthRate,infectionRate)\n",
    "            \n",
    "            k4i = h*infected_function(s0+k3s,e0+k3e,i0+k3i)\n",
    "            k4e = h*exposed_function(s0+k3s,e0+k3e,i0+k3i,infectionRate)\n",
    "            k4s = h*suceptible_function(s0+k3s,e0+k3e,i0+k3i,birthRate,infectionRate)\n",
    "            \n",
    "            i0 = i0+(k1i+2*k2i+2*k3i+k4i)/6\n",
    "            self.infectedMosquitoes = i0\n",
    "            \n",
    "            e0 = e0+(k1e+2*k2e+2*k3e+k4e)/6\n",
    "            self.exposedMosquitoes = e0\n",
    "\n",
    "            s0 = s0+(k1s+2*k2s+2*k3s+k4s)/6\n",
    "            self.suceptibleMosquitoes = s0\n",
    "            \n",
    "            birthRate = calculateBirthRate()\n",
    "            infectionRate = calculateInfectionRate(x,y)\n",
    "            i=i+1\n",
    "            \n",
    "    def suceptible_function(suceptible, exposed, infected, birthRate, infectionRate):\n",
    "        s1 = birthRate-infectionRate*suceptible-deathRate*suceptible\n",
    "        return s1\n",
    "    \n",
    "    def exposed_function(suceptible, exposed, infected, infectionRate): \n",
    "        exposedToinfectedRate = calculateExposedToinfectedRate()\n",
    "        e1 = infectionRate*suceptible-exposedToinfectedRate*exposed-deathRate*exposed\n",
    "        return e1\n",
    "    \n",
    "    def infected_function(suceptible, exposed, infected):\n",
    "        exposedToinfectedRate = calculateExposedToinfectedRate()\n",
    "        i1 = exposedToinfectedRate*exposed-deathRate*infected\n",
    "        return i1\n",
    "    \n",
    "    def calculateBirthRate():\n",
    "        totalMosquitoes = self.suceptibleMosquitoes+self.infectedMosquitoes+self.exposedMosquitoes\n",
    "        mosquitoPopulationGrowthRate = naturalEmergenceRate-deathRate\n",
    "        birthRate = totalMosquitoes*(naturalEmergenceRate-mosquitoPopulationGrowthRate*totalMosquitoes/mosquitoCarryingCapacity)\n",
    "        return birthRate\n",
    "\n",
    "    def calculateInfectionRate(x, y):\n",
    "        totalHumans = calculateTotalHumansInPatch(x, y)\n",
    "        humansInfected = calculateInfectedHumansInPatch(x, y)\n",
    "        totalMosquitoes = self.suceptibleMosquitoes+self.infectedMosquitoes+self.exposedMosquitoes\n",
    "        \n",
    "        totalSuccesfulBites = (mosquitoBiteDemand*totalMosquitoes*maxBitesPerHuman*totalHumans)/(mosquitoBiteDemand*totalMosquitoes+maxBitesPerHuman*totalHumans)\n",
    "        successfulBitesPerMosquito = totalSuccesfulBites/totalMosquitoes\n",
    "        infectionRateMosquitoes = successfulBitesPerMosquito*probabilityOfTransmissionHToM*(humansInfected/totalHumans)\n",
    "        return infectionRateMosquitoes\n",
    "    \n",
    "    def calculateExposedToinfectedRate():\n",
    "        patchIncubationPeriod = 7+(0.667-0.378*(self.temperaturePatch-26))/(0.299+0.027*(self.temperaturePatch-26))\n",
    "        exposedToInfectedRate = 1/patchIncubationPeriod\n",
    "        return exposedToinfectedRate\n"
   ]
  }
 ],
 "metadata": {
  "kernelspec": {
   "display_name": "Python 3 (ipykernel)",
   "language": "python",
   "name": "python3"
  },
  "language_info": {
   "codemirror_mode": {
    "name": "ipython",
    "version": 3
   },
   "file_extension": ".py",
   "mimetype": "text/x-python",
   "name": "python",
   "nbconvert_exporter": "python",
   "pygments_lexer": "ipython3",
   "version": "3.9.7"
  }
 },
 "nbformat": 4,
 "nbformat_minor": 5
}
