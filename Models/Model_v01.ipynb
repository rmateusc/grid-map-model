{
 "cells": [
  {
   "cell_type": "markdown",
   "metadata": {},
   "source": [
    "# 0. Import libraries"
   ]
  },
  {
   "cell_type": "code",
   "execution_count": 1,
   "metadata": {},
   "outputs": [],
   "source": [
    "import pandas as pd\n",
    "import numpy as np\n",
    "import geopandas as gpd\n",
    "import matplotlib.pyplot as plt\n",
    "import random\n",
    "\n",
    "from shapely.geometry import Point\n",
    "from shapely.geometry.polygon import Polygon"
   ]
  },
  {
   "cell_type": "markdown",
   "metadata": {},
   "source": [
    "# 1. Create Human class"
   ]
  },
  {
   "cell_type": "code",
   "execution_count": 2,
   "metadata": {},
   "outputs": [
    {
     "ename": "NameError",
     "evalue": "name 'SimulationBuilder' is not defined",
     "output_type": "error",
     "traceback": [
      "\u001b[0;31m---------------------------------------------------------------------------\u001b[0m",
      "\u001b[0;31mNameError\u001b[0m                                 Traceback (most recent call last)",
      "\u001b[0;32m/var/folders/nv/xg8c1lkd4bq4th3rhq8nlglw0000gn/T/ipykernel_8198/2789990239.py\u001b[0m in \u001b[0;36m<module>\u001b[0;34m\u001b[0m\n\u001b[1;32m      1\u001b[0m \u001b[0;31m# Poner type annotations\u001b[0m\u001b[0;34m\u001b[0m\u001b[0;34m\u001b[0m\u001b[0m\n\u001b[1;32m      2\u001b[0m \u001b[0;34m\u001b[0m\u001b[0m\n\u001b[0;32m----> 3\u001b[0;31m \u001b[0;32mclass\u001b[0m \u001b[0mHuman\u001b[0m\u001b[0;34m:\u001b[0m\u001b[0;34m\u001b[0m\u001b[0;34m\u001b[0m\u001b[0m\n\u001b[0m\u001b[1;32m      4\u001b[0m \u001b[0;34m\u001b[0m\u001b[0m\n\u001b[1;32m      5\u001b[0m     \u001b[0;31m# Define constants\u001b[0m\u001b[0;34m\u001b[0m\u001b[0;34m\u001b[0m\u001b[0m\n",
      "\u001b[0;32m/var/folders/nv/xg8c1lkd4bq4th3rhq8nlglw0000gn/T/ipykernel_8198/2789990239.py\u001b[0m in \u001b[0;36mHuman\u001b[0;34m()\u001b[0m\n\u001b[1;32m      4\u001b[0m \u001b[0;34m\u001b[0m\u001b[0m\n\u001b[1;32m      5\u001b[0m     \u001b[0;31m# Define constants\u001b[0m\u001b[0;34m\u001b[0m\u001b[0;34m\u001b[0m\u001b[0m\n\u001b[0;32m----> 6\u001b[0;31m     \u001b[0mnaturalEmergenceRate\u001b[0m \u001b[0;34m=\u001b[0m \u001b[0mSimulationBuilder\u001b[0m\u001b[0;34m.\u001b[0m\u001b[0mnaturalEmergenceRate\u001b[0m\u001b[0;34m\u001b[0m\u001b[0;34m\u001b[0m\u001b[0m\n\u001b[0m\u001b[1;32m      7\u001b[0m     \u001b[0mdeathRate\u001b[0m \u001b[0;34m=\u001b[0m \u001b[0mSimulationBuilder\u001b[0m\u001b[0;34m.\u001b[0m\u001b[0mdeathRate\u001b[0m\u001b[0;34m\u001b[0m\u001b[0;34m\u001b[0m\u001b[0m\n\u001b[1;32m      8\u001b[0m     \u001b[0mmosquitoCarryingCapacity\u001b[0m \u001b[0;34m=\u001b[0m \u001b[0mSimulationBuilder\u001b[0m\u001b[0;34m.\u001b[0m\u001b[0mmosquitoCarryingCapacity\u001b[0m\u001b[0;34m\u001b[0m\u001b[0;34m\u001b[0m\u001b[0m\n",
      "\u001b[0;31mNameError\u001b[0m: name 'SimulationBuilder' is not defined"
     ]
    }
   ],
   "source": [
    "# Poner type annotations\n",
    "\n",
    "class Human:\n",
    "    \n",
    "    # Define constants\n",
    "    naturalEmergenceRate = SimulationBuilder.naturalEmergenceRate\n",
    "    deathRate = SimulationBuilder.deathRate\n",
    "    mosquitoCarryingCapacity = SimulationBuilder.mosquitoCarryingCapacity\n",
    "    mosquitoBiteDemand = SimulationBuilder.mosquitoBiteDemand\n",
    "    maxBitesPerHuman = SimulationBuilder.maxBitesPerHuman\n",
    "    probabilityOfTransmissionHToM = SimulationBuilder.probabilityOfTransmissionHToM\n",
    "\n",
    "    # Constructor\n",
    "    def __init__(self, infectionState: str, age: int, timeSinceSuccesfullBite: int, timeSinceInfection: int, homeLocation):\n",
    "        self.infectionState = infectionState\n",
    "        self.age = age\n",
    "        self.timeSinceSuccesfullBite = timeSinceSuccesfullBite\n",
    "        self.timeSinceInfection = timeSinceInfection\n",
    "        self.homeLocation = homeLocation\n",
    "        \n",
    "    \n",
    "        "
   ]
  },
  {
   "cell_type": "code",
   "execution_count": 3,
   "metadata": {},
   "outputs": [
    {
     "ename": "NameError",
     "evalue": "name 'SimulationBuilder' is not defined",
     "output_type": "error",
     "traceback": [
      "\u001b[0;31m---------------------------------------------------------------------------\u001b[0m",
      "\u001b[0;31mNameError\u001b[0m                                 Traceback (most recent call last)",
      "\u001b[0;32m/var/folders/nv/xg8c1lkd4bq4th3rhq8nlglw0000gn/T/ipykernel_8198/2225526576.py\u001b[0m in \u001b[0;36m<module>\u001b[0;34m\u001b[0m\n\u001b[0;32m----> 1\u001b[0;31m \u001b[0;32mclass\u001b[0m \u001b[0mMyPatch\u001b[0m\u001b[0;34m:\u001b[0m\u001b[0;34m\u001b[0m\u001b[0;34m\u001b[0m\u001b[0m\n\u001b[0m\u001b[1;32m      2\u001b[0m \u001b[0;34m\u001b[0m\u001b[0m\n\u001b[1;32m      3\u001b[0m     \u001b[0;31m# Define constants\u001b[0m\u001b[0;34m\u001b[0m\u001b[0;34m\u001b[0m\u001b[0m\n\u001b[1;32m      4\u001b[0m     \u001b[0mnaturalEmergenceRate\u001b[0m \u001b[0;34m=\u001b[0m \u001b[0mSimulationBuilder\u001b[0m\u001b[0;34m.\u001b[0m\u001b[0mnaturalEmergenceRate\u001b[0m\u001b[0;34m\u001b[0m\u001b[0;34m\u001b[0m\u001b[0m\n\u001b[1;32m      5\u001b[0m     \u001b[0mdeathRate\u001b[0m \u001b[0;34m=\u001b[0m \u001b[0mSimulationBuilder\u001b[0m\u001b[0;34m.\u001b[0m\u001b[0mdeathRate\u001b[0m\u001b[0;34m\u001b[0m\u001b[0;34m\u001b[0m\u001b[0m\n",
      "\u001b[0;32m/var/folders/nv/xg8c1lkd4bq4th3rhq8nlglw0000gn/T/ipykernel_8198/2225526576.py\u001b[0m in \u001b[0;36mMyPatch\u001b[0;34m()\u001b[0m\n\u001b[1;32m      2\u001b[0m \u001b[0;34m\u001b[0m\u001b[0m\n\u001b[1;32m      3\u001b[0m     \u001b[0;31m# Define constants\u001b[0m\u001b[0;34m\u001b[0m\u001b[0;34m\u001b[0m\u001b[0m\n\u001b[0;32m----> 4\u001b[0;31m     \u001b[0mnaturalEmergenceRate\u001b[0m \u001b[0;34m=\u001b[0m \u001b[0mSimulationBuilder\u001b[0m\u001b[0;34m.\u001b[0m\u001b[0mnaturalEmergenceRate\u001b[0m\u001b[0;34m\u001b[0m\u001b[0;34m\u001b[0m\u001b[0m\n\u001b[0m\u001b[1;32m      5\u001b[0m     \u001b[0mdeathRate\u001b[0m \u001b[0;34m=\u001b[0m \u001b[0mSimulationBuilder\u001b[0m\u001b[0;34m.\u001b[0m\u001b[0mdeathRate\u001b[0m\u001b[0;34m\u001b[0m\u001b[0;34m\u001b[0m\u001b[0m\n\u001b[1;32m      6\u001b[0m     \u001b[0mmosquitoCarryingCapacity\u001b[0m \u001b[0;34m=\u001b[0m \u001b[0mSimulationBuilder\u001b[0m\u001b[0;34m.\u001b[0m\u001b[0mmosquitoCarryingCapacity\u001b[0m\u001b[0;34m\u001b[0m\u001b[0;34m\u001b[0m\u001b[0m\n",
      "\u001b[0;31mNameError\u001b[0m: name 'SimulationBuilder' is not defined"
     ]
    }
   ],
   "source": [
    "class MyPatch:\n",
    "    \n",
    "    # Define constants\n",
    "    naturalEmergenceRate = SimulationBuilder.naturalEmergenceRate\n",
    "    deathRate = SimulationBuilder.deathRate\n",
    "    mosquitoCarryingCapacity = SimulationBuilder.mosquitoCarryingCapacity\n",
    "    mosquitoBiteDemand = SimulationBuilder.mosquitoBiteDemand\n",
    "    maxBitesPerHuman = SimulationBuilder.maxBitesPerHuman\n",
    "    probabilityOfTransmissionHToM = SimulationBuilder.probabilityOfTransmissionHToM\n",
    "    \n",
    "    # Constructor\n",
    "    def __init__(self, suceptibleMosquitoes: float, exposedMosquitoes: float, infectedMosquitoes: float, temperaturePatch: int, patchType: int):\n",
    "        self.suceptibleMosquitoes = suceptibleMosquitoes\n",
    "        self.exposedMosquitoes = exposedMosquitoes\n",
    "        self.infectedMosquitoes = infectedMosquitoes\n",
    "        self.temperaturePatch = temperaturePatch\n",
    "        self.patchType = patchType\n",
    "        \n",
    "    def recalculateSEIR(x, y):\n",
    "        timeStep=0.1\n",
    "        solveRK4(timeStep, x, y)\n",
    "        \n",
    "    def solveRK4(h, x, y):\n",
    "        niter = 1/h\n",
    "        s0 = self.suceptibleMosquitoes\n",
    "        e0 = self.exposedMosquitoes\n",
    "        i0 = self.infectedMosquitoes\n",
    "        \n",
    "        birthRate = calculateBirthRate()\n",
    "        infectionRate = calculateInfectionRate(x,y)\n",
    "        \n",
    "        i=1\n",
    "        while(i<=niter):\n",
    "            k1i = h*infected_function(s0,e0,i0)\n",
    "            k1e = h*exposed_function(s0,e0,i0,infectionRate)\n",
    "            k1s = h*suceptible_function(s0,e0,i0,birthRate,infectionRate)\n",
    "            \n",
    "            k2i = h*infected_function(s0+k1s/2,e0+k1e/2,i0+k1i/2)\n",
    "            k2e = h*exposed_function(s0+k1s/2,e0+k1e/2,i0+k1i/2,infectionRate)\n",
    "            k2s = h*suceptible_function(s0+k1s/2,e0+k1e/2,i0+k1i/2,birthRate,infectionRate)\n",
    "            \n",
    "            k3i = h*infected_function(s0+k2s/2,e0+k2e/2,i0+k2i/2)\n",
    "            k3e = h*exposed_function(s0+k2s/2,e0+k2e/2,i0+k2i/2,infectionRate)\n",
    "            k3s = h*suceptible_function(s0+k2s/2,e0+k2e/2,i0+k2i/2,birthRate,infectionRate)\n",
    "            \n",
    "            k4i = h*infected_function(s0+k3s,e0+k3e,i0+k3i)\n",
    "            k4e = h*exposed_function(s0+k3s,e0+k3e,i0+k3i,infectionRate)\n",
    "            k4s = h*suceptible_function(s0+k3s,e0+k3e,i0+k3i,birthRate,infectionRate)\n",
    "            \n",
    "            i0 = i0+(k1i+2*k2i+2*k3i+k4i)/6\n",
    "            self.infectedMosquitoes = i0\n",
    "            \n",
    "            e0 = e0+(k1e+2*k2e+2*k3e+k4e)/6\n",
    "            self.exposedMosquitoes = e0\n",
    "\n",
    "            s0 = s0+(k1s+2*k2s+2*k3s+k4s)/6\n",
    "            self.suceptibleMosquitoes = s0\n",
    "            \n",
    "            birthRate = calculateBirthRate()\n",
    "            infectionRate = calculateInfectionRate(x,y)\n",
    "            i=i+1\n",
    "            \n",
    "    def suceptible_function(suceptible, exposed, infected, birthRate, infectionRate):\n",
    "        s1 = birthRate-infectionRate*suceptible-deathRate*suceptible\n",
    "        return s1\n",
    "    \n",
    "    def exposed_function(suceptible, exposed, infected, infectionRate): \n",
    "        exposedToinfectedRate = calculateExposedToinfectedRate()\n",
    "        e1 = infectionRate*suceptible-exposedToinfectedRate*exposed-deathRate*exposed\n",
    "        return e1\n",
    "    \n",
    "    def infected_function(suceptible, exposed, infected):\n",
    "        exposedToinfectedRate = calculateExposedToinfectedRate()\n",
    "        i1 = exposedToinfectedRate*exposed-deathRate*infected\n",
    "        return i1\n",
    "    \n",
    "    def calculateBirthRate():\n",
    "        totalMosquitoes = self.suceptibleMosquitoes+self.infectedMosquitoes+self.exposedMosquitoes\n",
    "        mosquitoPopulationGrowthRate = naturalEmergenceRate-deathRate\n",
    "        birthRate = totalMosquitoes*(naturalEmergenceRate-mosquitoPopulationGrowthRate*totalMosquitoes/mosquitoCarryingCapacity)\n",
    "        return birthRate\n",
    "\n",
    "    def calculateInfectionRate(x, y):\n",
    "        totalHumans = calculateTotalHumansInPatch(x, y)\n",
    "        humansInfected = calculateInfectedHumansInPatch(x, y)\n",
    "        totalMosquitoes = self.suceptibleMosquitoes+self.infectedMosquitoes+self.exposedMosquitoes\n",
    "        \n",
    "        totalSuccesfulBites = (mosquitoBiteDemand*totalMosquitoes*maxBitesPerHuman*totalHumans)/(mosquitoBiteDemand*totalMosquitoes+maxBitesPerHuman*totalHumans)\n",
    "        successfulBitesPerMosquito = totalSuccesfulBites/totalMosquitoes\n",
    "        infectionRateMosquitoes = successfulBitesPerMosquito*probabilityOfTransmissionHToM*(humansInfected/totalHumans)\n",
    "        return infectionRateMosquitoes\n",
    "    \n",
    "    def calculateExposedToinfectedRate():\n",
    "        patchIncubationPeriod = 7+(0.667-0.378*(self.temperaturePatch-26))/(0.299+0.027*(self.temperaturePatch-26))\n",
    "        exposedToInfectedRate = 1/patchIncubationPeriod\n",
    "        return exposedToinfectedRate\n"
   ]
  },
  {
   "cell_type": "code",
   "execution_count": null,
   "metadata": {},
   "outputs": [],
   "source": []
  },
  {
   "cell_type": "markdown",
   "metadata": {},
   "source": [
    "# 2. Model Initalization"
   ]
  },
  {
   "cell_type": "code",
   "execution_count": 4,
   "metadata": {},
   "outputs": [],
   "source": [
    "class SimulationBuilder:\n",
    "    \n",
    "    # Define constants\n",
    "    naturalEmergenceRate=0.3\n",
    "    deathRate=0.071428571428571\n",
    "    mosquitoCarryingCapacity=1000\n",
    "    mosquitoBiteDemand=0.5\n",
    "    maxBitesPerHuman=19\n",
    "    probabilityOfTransmissionHToM=0.333"
   ]
  },
  {
   "cell_type": "code",
   "execution_count": null,
   "metadata": {},
   "outputs": [],
   "source": []
  },
  {
   "cell_type": "code",
   "execution_count": null,
   "metadata": {},
   "outputs": [],
   "source": []
  },
  {
   "cell_type": "markdown",
   "metadata": {},
   "source": [
    "# 3. Model Simulation"
   ]
  },
  {
   "cell_type": "code",
   "execution_count": null,
   "metadata": {},
   "outputs": [],
   "source": []
  },
  {
   "cell_type": "markdown",
   "metadata": {},
   "source": [
    "# 4. Map Implementation"
   ]
  },
  {
   "cell_type": "markdown",
   "metadata": {},
   "source": [
    "## 4.1. Grid"
   ]
  },
  {
   "cell_type": "code",
   "execution_count": 5,
   "metadata": {},
   "outputs": [],
   "source": [
    "import geopandas as gpd\n",
    "from shapely.geometry import Polygon\n",
    "import numpy as np\n",
    "import matplotlib.pyplot as plt\n",
    "import shapely.geometry"
   ]
  },
  {
   "cell_type": "code",
   "execution_count": 6,
   "metadata": {},
   "outputs": [
    {
     "data": {
      "image/png": "[encoded data removed]",
      "text/plain": [
       "<Figure size 432x288 with 1 Axes>"
      ]
     },
     "metadata": {
      "needs_background": "light"
     },
     "output_type": "display_data"
    },
    {
     "data": {
      "image/png": "[encoded data removed]",
      "text/plain": [
       "<Figure size 432x288 with 1 Axes>"
      ]
     },
     "metadata": {
      "needs_background": "light"
     },
     "output_type": "display_data"
    }
   ],
   "source": [
    "points = gpd.read_file('/Users/rafaelmateus/Desktop/Modelo_PI/data/maps/BELLO_MAPA/bello_map.shp')\n",
    "\n",
    "xmin, ymin, xmax, ymax = points.total_bounds\n",
    "\n",
    "length = 10\n",
    "wide = 10\n",
    "\n",
    "cols = list(np.arange(xmin, xmax + wide, wide))\n",
    "rows = list(np.arange(ymin, ymax + length, length))\n",
    "\n",
    "polygons = []\n",
    "for x in cols[:-1]:\n",
    "    for y in rows[:-1]:\n",
    "        polygons.append(Polygon([(x,y), (x+wide, y), (x+wide, y+length), (x, y+length)]))\n",
    "\n",
    "grid = gpd.GeoDataFrame({'geometry':polygons})\n",
    "grid.plot()\n",
    "points.plot(color='red')\n",
    "plt.show()\n",
    "#grid.to_file(\"grid.shp\")"
   ]
  },
  {
   "cell_type": "code",
   "execution_count": null,
   "metadata": {},
   "outputs": [],
   "source": []
  },
  {
   "cell_type": "code",
   "execution_count": 7,
   "metadata": {},
   "outputs": [],
   "source": [
    "points = gpd.read_file('/Users/rafaelmateus/Desktop/Modelo_PI/data/maps/BELLO_MAPA/bello_map.shp')\n",
    "\n",
    "xmin, ymin, xmax, ymax = points.total_bounds\n",
    "\n",
    "n_cells=30\n",
    "cell_size = (xmax-xmin)/n_cells\n",
    "\n",
    "crs = \"+proj=sinu +lon_0=0 +x_0=0 +y_0=0 +a=6371007.181 +b=6371007.181 +units=m +no_defs\"\n",
    "\n",
    "grid_cells = []\n",
    "for x0 in np.arange(xmin, xmax+cell_size, cell_size ):\n",
    "    for y0 in np.arange(ymin, ymax+cell_size, cell_size):\n",
    "        # bounds\n",
    "        x1 = x0-cell_size\n",
    "        y1 = y0+cell_size\n",
    "        grid_cells.append( shapely.geometry.box(x0, y0, x1, y1)  )\n",
    "cell = gpd.GeoDataFrame(grid_cells, columns=['geometry'])\n",
    "                                 #crs=crs)"
   ]
  },
  {
   "cell_type": "code",
   "execution_count": 8,
   "metadata": {},
   "outputs": [
    {
     "data": {
      "text/html": [
       "<div>\n",
       "<style scoped>\n",
       "    .dataframe tbody tr th:only-of-type {\n",
       "        vertical-align: middle;\n",
       "    }\n",
       "\n",
       "    .dataframe tbody tr th {\n",
       "        vertical-align: top;\n",
       "    }\n",
       "\n",
       "    .dataframe thead th {\n",
       "        text-align: right;\n",
       "    }\n",
       "</style>\n",
       "<table border=\"1\" class=\"dataframe\">\n",
       "  <thead>\n",
       "    <tr style=\"text-align: right;\">\n",
       "      <th></th>\n",
       "      <th>geometry</th>\n",
       "    </tr>\n",
       "  </thead>\n",
       "  <tbody>\n",
       "    <tr>\n",
       "      <th>0</th>\n",
       "      <td>POLYGON ((-75.67385 6.28717, -75.67385 6.29230...</td>\n",
       "    </tr>\n",
       "    <tr>\n",
       "      <th>1</th>\n",
       "      <td>POLYGON ((-75.67385 6.29230, -75.67385 6.29742...</td>\n",
       "    </tr>\n",
       "    <tr>\n",
       "      <th>2</th>\n",
       "      <td>POLYGON ((-75.67385 6.29742, -75.67385 6.30255...</td>\n",
       "    </tr>\n",
       "    <tr>\n",
       "      <th>3</th>\n",
       "      <td>POLYGON ((-75.67385 6.30255, -75.67385 6.30767...</td>\n",
       "    </tr>\n",
       "    <tr>\n",
       "      <th>4</th>\n",
       "      <td>POLYGON ((-75.67385 6.30767, -75.67385 6.31279...</td>\n",
       "    </tr>\n",
       "    <tr>\n",
       "      <th>...</th>\n",
       "      <td>...</td>\n",
       "    </tr>\n",
       "    <tr>\n",
       "      <th>925</th>\n",
       "      <td>POLYGON ((-75.52012 6.41528, -75.52012 6.42040...</td>\n",
       "    </tr>\n",
       "    <tr>\n",
       "      <th>926</th>\n",
       "      <td>POLYGON ((-75.52012 6.42040, -75.52012 6.42552...</td>\n",
       "    </tr>\n",
       "    <tr>\n",
       "      <th>927</th>\n",
       "      <td>POLYGON ((-75.52012 6.42552, -75.52012 6.43065...</td>\n",
       "    </tr>\n",
       "    <tr>\n",
       "      <th>928</th>\n",
       "      <td>POLYGON ((-75.52012 6.43065, -75.52012 6.43577...</td>\n",
       "    </tr>\n",
       "    <tr>\n",
       "      <th>929</th>\n",
       "      <td>POLYGON ((-75.52012 6.43577, -75.52012 6.44090...</td>\n",
       "    </tr>\n",
       "  </tbody>\n",
       "</table>\n",
       "<p>930 rows × 1 columns</p>\n",
       "</div>"
      ],
      "text/plain": [
       "                                              geometry\n",
       "0    POLYGON ((-75.67385 6.28717, -75.67385 6.29230...\n",
       "1    POLYGON ((-75.67385 6.29230, -75.67385 6.29742...\n",
       "2    POLYGON ((-75.67385 6.29742, -75.67385 6.30255...\n",
       "3    POLYGON ((-75.67385 6.30255, -75.67385 6.30767...\n",
       "4    POLYGON ((-75.67385 6.30767, -75.67385 6.31279...\n",
       "..                                                 ...\n",
       "925  POLYGON ((-75.52012 6.41528, -75.52012 6.42040...\n",
       "926  POLYGON ((-75.52012 6.42040, -75.52012 6.42552...\n",
       "927  POLYGON ((-75.52012 6.42552, -75.52012 6.43065...\n",
       "928  POLYGON ((-75.52012 6.43065, -75.52012 6.43577...\n",
       "929  POLYGON ((-75.52012 6.43577, -75.52012 6.44090...\n",
       "\n",
       "[930 rows x 1 columns]"
      ]
     },
     "execution_count": 8,
     "metadata": {},
     "output_type": "execute_result"
    }
   ],
   "source": [
    "cell"
   ]
  },
  {
   "cell_type": "code",
   "execution_count": 9,
   "metadata": {},
   "outputs": [
    {
     "data": {
      "text/plain": [
       "str"
      ]
     },
     "execution_count": 9,
     "metadata": {},
     "output_type": "execute_result"
    }
   ],
   "source": [
    "type(crs)"
   ]
  },
  {
   "cell_type": "code",
   "execution_count": 10,
   "metadata": {
    "scrolled": true
   },
   "outputs": [
    {
     "data": {
      "image/png": "[encoded data removed]",
      "text/plain": [
       "<Figure size 720x720 with 1 Axes>"
      ]
     },
     "metadata": {
      "needs_background": "light"
     },
     "output_type": "display_data"
    }
   ],
   "source": [
    "ax = points.plot(markersize=.1,  figsize=(10, 10))\n",
    "plt.autoscale(False)\n",
    "cell.plot(ax=ax, facecolor=\"none\", edgecolor='grey')\n",
    "ax.axis(\"off\")\n",
    "plt.show()"
   ]
  },
  {
   "cell_type": "code",
   "execution_count": 11,
   "metadata": {
    "scrolled": false
   },
   "outputs": [
    {
     "name": "stderr",
     "output_type": "stream",
     "text": [
      "/var/folders/nv/xg8c1lkd4bq4th3rhq8nlglw0000gn/T/ipykernel_8198/3097010719.py:1: UserWarning: CRS mismatch between the CRS of left geometries and the CRS of right geometries.\n",
      "Use `to_crs()` to reproject one of the input geometries to match the CRS of the other.\n",
      "\n",
      "Left CRS: EPSG:4326\n",
      "Right CRS: None\n",
      "\n",
      "  intersect = gpd.overlay(points, cell, how='intersection')\n",
      "/var/folders/nv/xg8c1lkd4bq4th3rhq8nlglw0000gn/T/ipykernel_8198/3097010719.py:1: UserWarning: `keep_geom_type=True` in overlay resulted in 1 dropped geometries of different geometry types than df1 has. Set `keep_geom_type=False` to retain all geometries\n",
      "  intersect = gpd.overlay(points, cell, how='intersection')\n"
     ]
    },
    {
     "data": {
      "text/plain": [
       "<AxesSubplot:>"
      ]
     },
     "execution_count": 11,
     "metadata": {},
     "output_type": "execute_result"
    },
    {
     "data": {
      "image/png": "[encoded data removed]",
      "text/plain": [
       "<Figure size 432x288 with 1 Axes>"
      ]
     },
     "metadata": {
      "needs_background": "light"
     },
     "output_type": "display_data"
    }
   ],
   "source": [
    "intersect = gpd.overlay(points, cell, how='intersection')\n",
    "intersect.plot()"
   ]
  },
  {
   "cell_type": "code",
   "execution_count": 12,
   "metadata": {},
   "outputs": [
    {
     "data": {
      "text/html": [
       "<div>\n",
       "<style scoped>\n",
       "    .dataframe tbody tr th:only-of-type {\n",
       "        vertical-align: middle;\n",
       "    }\n",
       "\n",
       "    .dataframe tbody tr th {\n",
       "        vertical-align: top;\n",
       "    }\n",
       "\n",
       "    .dataframe thead th {\n",
       "        text-align: right;\n",
       "    }\n",
       "</style>\n",
       "<table border=\"1\" class=\"dataframe\">\n",
       "  <thead>\n",
       "    <tr style=\"text-align: right;\">\n",
       "      <th></th>\n",
       "      <th>geometry</th>\n",
       "    </tr>\n",
       "  </thead>\n",
       "  <tbody>\n",
       "    <tr>\n",
       "      <th>0</th>\n",
       "      <td>POLYGON ((-75.67385 6.28717, -75.67385 6.29230...</td>\n",
       "    </tr>\n",
       "    <tr>\n",
       "      <th>1</th>\n",
       "      <td>POLYGON ((-75.67385 6.29230, -75.67385 6.29742...</td>\n",
       "    </tr>\n",
       "    <tr>\n",
       "      <th>2</th>\n",
       "      <td>POLYGON ((-75.67385 6.29742, -75.67385 6.30255...</td>\n",
       "    </tr>\n",
       "    <tr>\n",
       "      <th>3</th>\n",
       "      <td>POLYGON ((-75.67385 6.30255, -75.67385 6.30767...</td>\n",
       "    </tr>\n",
       "    <tr>\n",
       "      <th>4</th>\n",
       "      <td>POLYGON ((-75.67385 6.30767, -75.67385 6.31279...</td>\n",
       "    </tr>\n",
       "    <tr>\n",
       "      <th>...</th>\n",
       "      <td>...</td>\n",
       "    </tr>\n",
       "    <tr>\n",
       "      <th>925</th>\n",
       "      <td>POLYGON ((-75.52012 6.41528, -75.52012 6.42040...</td>\n",
       "    </tr>\n",
       "    <tr>\n",
       "      <th>926</th>\n",
       "      <td>POLYGON ((-75.52012 6.42040, -75.52012 6.42552...</td>\n",
       "    </tr>\n",
       "    <tr>\n",
       "      <th>927</th>\n",
       "      <td>POLYGON ((-75.52012 6.42552, -75.52012 6.43065...</td>\n",
       "    </tr>\n",
       "    <tr>\n",
       "      <th>928</th>\n",
       "      <td>POLYGON ((-75.52012 6.43065, -75.52012 6.43577...</td>\n",
       "    </tr>\n",
       "    <tr>\n",
       "      <th>929</th>\n",
       "      <td>POLYGON ((-75.52012 6.43577, -75.52012 6.44090...</td>\n",
       "    </tr>\n",
       "  </tbody>\n",
       "</table>\n",
       "<p>930 rows × 1 columns</p>\n",
       "</div>"
      ],
      "text/plain": [
       "                                              geometry\n",
       "0    POLYGON ((-75.67385 6.28717, -75.67385 6.29230...\n",
       "1    POLYGON ((-75.67385 6.29230, -75.67385 6.29742...\n",
       "2    POLYGON ((-75.67385 6.29742, -75.67385 6.30255...\n",
       "3    POLYGON ((-75.67385 6.30255, -75.67385 6.30767...\n",
       "4    POLYGON ((-75.67385 6.30767, -75.67385 6.31279...\n",
       "..                                                 ...\n",
       "925  POLYGON ((-75.52012 6.41528, -75.52012 6.42040...\n",
       "926  POLYGON ((-75.52012 6.42040, -75.52012 6.42552...\n",
       "927  POLYGON ((-75.52012 6.42552, -75.52012 6.43065...\n",
       "928  POLYGON ((-75.52012 6.43065, -75.52012 6.43577...\n",
       "929  POLYGON ((-75.52012 6.43577, -75.52012 6.44090...\n",
       "\n",
       "[930 rows x 1 columns]"
      ]
     },
     "execution_count": 12,
     "metadata": {},
     "output_type": "execute_result"
    }
   ],
   "source": [
    "cell"
   ]
  },
  {
   "cell_type": "code",
   "execution_count": 13,
   "metadata": {
    "scrolled": true
   },
   "outputs": [],
   "source": [
    "small=cell.iloc[300].values"
   ]
  },
  {
   "cell_type": "code",
   "execution_count": 14,
   "metadata": {},
   "outputs": [
    {
     "data": {
      "text/plain": [
       "geometry    POLYGON ((-75.66360 6.36403, -75.66360 6.36916...\n",
       "Name: 75, dtype: geometry"
      ]
     },
     "execution_count": 14,
     "metadata": {},
     "output_type": "execute_result"
    }
   ],
   "source": [
    "cell.iloc[75]"
   ]
  },
  {
   "cell_type": "code",
   "execution_count": 15,
   "metadata": {},
   "outputs": [],
   "source": [
    "\n",
    "big = points.geometry.values"
   ]
  },
  {
   "cell_type": "code",
   "execution_count": 16,
   "metadata": {},
   "outputs": [
    {
     "data": {
      "text/plain": [
       "(<GeometryArray>\n",
       " [<shapely.geometry.polygon.Polygon object at 0x13fd67340>]\n",
       " Length: 1, dtype: geometry,\n",
       " <GeometryArray>\n",
       " [<shapely.geometry.polygon.Polygon object at 0x13fecca00>]\n",
       " Length: 1, dtype: geometry)"
      ]
     },
     "execution_count": 16,
     "metadata": {},
     "output_type": "execute_result"
    }
   ],
   "source": [
    "small,big"
   ]
  },
  {
   "cell_type": "code",
   "execution_count": 17,
   "metadata": {
    "scrolled": true
   },
   "outputs": [
    {
     "name": "stderr",
     "output_type": "stream",
     "text": [
      "/opt/anaconda3/envs/pi_env/lib/python3.9/site-packages/IPython/core/interactiveshell.py:3169: UserWarning: CRS mismatch between the CRS of left geometries and the CRS of right geometries.\n",
      "Use `to_crs()` to reproject one of the input geometries to match the CRS of the other.\n",
      "\n",
      "Left CRS: EPSG:4326\n",
      "Right CRS: None\n",
      "\n",
      "  has_raised = await self.run_ast_nodes(code_ast.body, cell_name,\n"
     ]
    },
    {
     "data": {
      "text/plain": [
       "False"
      ]
     },
     "execution_count": 17,
     "metadata": {},
     "output_type": "execute_result"
    }
   ],
   "source": [
    "big.contains(small)[0]"
   ]
  },
  {
   "cell_type": "code",
   "execution_count": 18,
   "metadata": {},
   "outputs": [],
   "source": [
    "in_shape=[]\n",
    "for i in range(len(cell)):\n",
    "    small=cell.iloc[i].values\n",
    "    big = points.geometry.values\n",
    "    in_shape.append(big.contains(small)[0])"
   ]
  },
  {
   "cell_type": "code",
   "execution_count": 19,
   "metadata": {},
   "outputs": [],
   "source": [
    "cell['in_map']=in_shape"
   ]
  },
  {
   "cell_type": "code",
   "execution_count": 20,
   "metadata": {
    "scrolled": false
   },
   "outputs": [
    {
     "data": {
      "text/html": [
       "<div>\n",
       "<style scoped>\n",
       "    .dataframe tbody tr th:only-of-type {\n",
       "        vertical-align: middle;\n",
       "    }\n",
       "\n",
       "    .dataframe tbody tr th {\n",
       "        vertical-align: top;\n",
       "    }\n",
       "\n",
       "    .dataframe thead th {\n",
       "        text-align: right;\n",
       "    }\n",
       "</style>\n",
       "<table border=\"1\" class=\"dataframe\">\n",
       "  <thead>\n",
       "    <tr style=\"text-align: right;\">\n",
       "      <th></th>\n",
       "      <th>geometry</th>\n",
       "      <th>in_map</th>\n",
       "    </tr>\n",
       "  </thead>\n",
       "  <tbody>\n",
       "    <tr>\n",
       "      <th>75</th>\n",
       "      <td>POLYGON ((-75.66360 6.36403, -75.66360 6.36916...</td>\n",
       "      <td>True</td>\n",
       "    </tr>\n",
       "    <tr>\n",
       "      <th>76</th>\n",
       "      <td>POLYGON ((-75.66360 6.36916, -75.66360 6.37428...</td>\n",
       "      <td>True</td>\n",
       "    </tr>\n",
       "    <tr>\n",
       "      <th>77</th>\n",
       "      <td>POLYGON ((-75.66360 6.37428, -75.66360 6.37941...</td>\n",
       "      <td>True</td>\n",
       "    </tr>\n",
       "    <tr>\n",
       "      <th>104</th>\n",
       "      <td>POLYGON ((-75.65847 6.35891, -75.65847 6.36403...</td>\n",
       "      <td>True</td>\n",
       "    </tr>\n",
       "    <tr>\n",
       "      <th>105</th>\n",
       "      <td>POLYGON ((-75.65847 6.36403, -75.65847 6.36916...</td>\n",
       "      <td>True</td>\n",
       "    </tr>\n",
       "    <tr>\n",
       "      <th>...</th>\n",
       "      <td>...</td>\n",
       "      <td>...</td>\n",
       "    </tr>\n",
       "    <tr>\n",
       "      <th>855</th>\n",
       "      <td>POLYGON ((-75.53037 6.36403, -75.53037 6.36916...</td>\n",
       "      <td>True</td>\n",
       "    </tr>\n",
       "    <tr>\n",
       "      <th>881</th>\n",
       "      <td>POLYGON ((-75.52525 6.34354, -75.52525 6.34866...</td>\n",
       "      <td>True</td>\n",
       "    </tr>\n",
       "    <tr>\n",
       "      <th>882</th>\n",
       "      <td>POLYGON ((-75.52525 6.34866, -75.52525 6.35379...</td>\n",
       "      <td>True</td>\n",
       "    </tr>\n",
       "    <tr>\n",
       "      <th>883</th>\n",
       "      <td>POLYGON ((-75.52525 6.35379, -75.52525 6.35891...</td>\n",
       "      <td>True</td>\n",
       "    </tr>\n",
       "    <tr>\n",
       "      <th>884</th>\n",
       "      <td>POLYGON ((-75.52525 6.35891, -75.52525 6.36403...</td>\n",
       "      <td>True</td>\n",
       "    </tr>\n",
       "  </tbody>\n",
       "</table>\n",
       "<p>389 rows × 2 columns</p>\n",
       "</div>"
      ],
      "text/plain": [
       "                                              geometry  in_map\n",
       "75   POLYGON ((-75.66360 6.36403, -75.66360 6.36916...    True\n",
       "76   POLYGON ((-75.66360 6.36916, -75.66360 6.37428...    True\n",
       "77   POLYGON ((-75.66360 6.37428, -75.66360 6.37941...    True\n",
       "104  POLYGON ((-75.65847 6.35891, -75.65847 6.36403...    True\n",
       "105  POLYGON ((-75.65847 6.36403, -75.65847 6.36916...    True\n",
       "..                                                 ...     ...\n",
       "855  POLYGON ((-75.53037 6.36403, -75.53037 6.36916...    True\n",
       "881  POLYGON ((-75.52525 6.34354, -75.52525 6.34866...    True\n",
       "882  POLYGON ((-75.52525 6.34866, -75.52525 6.35379...    True\n",
       "883  POLYGON ((-75.52525 6.35379, -75.52525 6.35891...    True\n",
       "884  POLYGON ((-75.52525 6.35891, -75.52525 6.36403...    True\n",
       "\n",
       "[389 rows x 2 columns]"
      ]
     },
     "execution_count": 20,
     "metadata": {},
     "output_type": "execute_result"
    }
   ],
   "source": [
    "grid = cell[cell.in_map==True] \n",
    "grid"
   ]
  },
  {
   "cell_type": "code",
   "execution_count": 21,
   "metadata": {},
   "outputs": [],
   "source": [
    "# cell[75 ] in points"
   ]
  },
  {
   "cell_type": "code",
   "execution_count": 22,
   "metadata": {
    "scrolled": true
   },
   "outputs": [
    {
     "data": {
      "image/png": "[encoded data removed]",
      "text/plain": [
       "<Figure size 720x720 with 1 Axes>"
      ]
     },
     "metadata": {
      "needs_background": "light"
     },
     "output_type": "display_data"
    }
   ],
   "source": [
    "ax = points.plot(color='white', edgecolor='red', markersize=.1,  figsize=(10, 10))\n",
    "plt.autoscale(False)\n",
    "grid.plot(ax=ax, facecolor=\"none\", edgecolor='grey')\n",
    "ax.axis(\"off\")\n",
    "plt.show()"
   ]
  },
  {
   "cell_type": "code",
   "execution_count": null,
   "metadata": {},
   "outputs": [],
   "source": []
  },
  {
   "cell_type": "markdown",
   "metadata": {},
   "source": [
    "## 4.2. GIS"
   ]
  },
  {
   "cell_type": "code",
   "execution_count": 23,
   "metadata": {
    "scrolled": true
   },
   "outputs": [],
   "source": [
    "bello_map=gpd.read_file('/Users/rafaelmateus/Desktop/Modelo_PI/data/maps/BELLO_MAPA/bello_map.shp')"
   ]
  },
  {
   "cell_type": "code",
   "execution_count": 24,
   "metadata": {},
   "outputs": [
    {
     "data": {
      "text/html": [
       "<div>\n",
       "<style scoped>\n",
       "    .dataframe tbody tr th:only-of-type {\n",
       "        vertical-align: middle;\n",
       "    }\n",
       "\n",
       "    .dataframe tbody tr th {\n",
       "        vertical-align: top;\n",
       "    }\n",
       "\n",
       "    .dataframe thead th {\n",
       "        text-align: right;\n",
       "    }\n",
       "</style>\n",
       "<table border=\"1\" class=\"dataframe\">\n",
       "  <thead>\n",
       "    <tr style=\"text-align: right;\">\n",
       "      <th></th>\n",
       "      <th>DPTO_CCDGO</th>\n",
       "      <th>MPIO_CCDGO</th>\n",
       "      <th>MPIO_CDPMP</th>\n",
       "      <th>DPTO_CNMBR</th>\n",
       "      <th>MPIO_CNMBR</th>\n",
       "      <th>MPIO_CRSLC</th>\n",
       "      <th>MPIO_NAREA</th>\n",
       "      <th>MPIO_CSMBL</th>\n",
       "      <th>MPIO_VGNC</th>\n",
       "      <th>MPIO_TIPO</th>\n",
       "      <th>SHAPE_AREA</th>\n",
       "      <th>SHAPE_LEN</th>\n",
       "      <th>geometry</th>\n",
       "    </tr>\n",
       "  </thead>\n",
       "  <tbody>\n",
       "    <tr>\n",
       "      <th>0</th>\n",
       "      <td>05</td>\n",
       "      <td>088</td>\n",
       "      <td>05088</td>\n",
       "      <td>ANTIOQUIA</td>\n",
       "      <td>BELLO</td>\n",
       "      <td>Ordenanza 48 del 29 deAbril de 1913</td>\n",
       "      <td>147.758418</td>\n",
       "      <td>4</td>\n",
       "      <td>2020</td>\n",
       "      <td>MUNICIPIO</td>\n",
       "      <td>0.012068</td>\n",
       "      <td>0.614364</td>\n",
       "      <td>POLYGON ((-75.58203 6.42510, -75.58157 6.42507...</td>\n",
       "    </tr>\n",
       "  </tbody>\n",
       "</table>\n",
       "</div>"
      ],
      "text/plain": [
       "  DPTO_CCDGO MPIO_CCDGO MPIO_CDPMP DPTO_CNMBR MPIO_CNMBR  \\\n",
       "0         05        088      05088  ANTIOQUIA      BELLO   \n",
       "\n",
       "                            MPIO_CRSLC  MPIO_NAREA MPIO_CSMBL  MPIO_VGNC  \\\n",
       "0  Ordenanza 48 del 29 deAbril de 1913  147.758418          4       2020   \n",
       "\n",
       "   MPIO_TIPO  SHAPE_AREA  SHAPE_LEN  \\\n",
       "0  MUNICIPIO    0.012068   0.614364   \n",
       "\n",
       "                                            geometry  \n",
       "0  POLYGON ((-75.58203 6.42510, -75.58157 6.42507...  "
      ]
     },
     "execution_count": 24,
     "metadata": {},
     "output_type": "execute_result"
    }
   ],
   "source": [
    "bello_map"
   ]
  },
  {
   "cell_type": "code",
   "execution_count": 25,
   "metadata": {},
   "outputs": [
    {
     "data": {
      "text/plain": [
       "<GeometryArray>\n",
       "[<shapely.geometry.polygon.Polygon object at 0x13f9d0be0>]\n",
       "Length: 1, dtype: geometry"
      ]
     },
     "execution_count": 25,
     "metadata": {},
     "output_type": "execute_result"
    }
   ],
   "source": [
    "bello_map.geometry.values"
   ]
  },
  {
   "cell_type": "code",
   "execution_count": 26,
   "metadata": {
    "scrolled": true
   },
   "outputs": [
    {
     "data": {
      "text/html": [
       "<div>\n",
       "<style scoped>\n",
       "    .dataframe tbody tr th:only-of-type {\n",
       "        vertical-align: middle;\n",
       "    }\n",
       "\n",
       "    .dataframe tbody tr th {\n",
       "        vertical-align: top;\n",
       "    }\n",
       "\n",
       "    .dataframe thead th {\n",
       "        text-align: right;\n",
       "    }\n",
       "</style>\n",
       "<table border=\"1\" class=\"dataframe\">\n",
       "  <thead>\n",
       "    <tr style=\"text-align: right;\">\n",
       "      <th></th>\n",
       "      <th>minx</th>\n",
       "      <th>miny</th>\n",
       "      <th>maxx</th>\n",
       "      <th>maxy</th>\n",
       "    </tr>\n",
       "  </thead>\n",
       "  <tbody>\n",
       "    <tr>\n",
       "      <th>0</th>\n",
       "      <td>-75.668723</td>\n",
       "      <td>6.287174</td>\n",
       "      <td>-75.515001</td>\n",
       "      <td>6.434998</td>\n",
       "    </tr>\n",
       "  </tbody>\n",
       "</table>\n",
       "</div>"
      ],
      "text/plain": [
       "        minx      miny       maxx      maxy\n",
       "0 -75.668723  6.287174 -75.515001  6.434998"
      ]
     },
     "execution_count": 26,
     "metadata": {},
     "output_type": "execute_result"
    }
   ],
   "source": [
    "bello_map.geometry.bounds"
   ]
  },
  {
   "cell_type": "code",
   "execution_count": 27,
   "metadata": {},
   "outputs": [],
   "source": [
    "xmin=bello_map.geometry.bounds.minx\n",
    "ymin=bello_map.geometry.bounds.miny\n",
    "xmax=bello_map.geometry.bounds.maxx\n",
    "ymax=bello_map.geometry.bounds.maxy"
   ]
  },
  {
   "cell_type": "code",
   "execution_count": 28,
   "metadata": {},
   "outputs": [
    {
     "data": {
      "text/plain": [
       "0   -75.668723\n",
       "Name: minx, dtype: float64"
      ]
     },
     "execution_count": 28,
     "metadata": {},
     "output_type": "execute_result"
    }
   ],
   "source": [
    "xmin"
   ]
  },
  {
   "cell_type": "code",
   "execution_count": 29,
   "metadata": {},
   "outputs": [
    {
     "data": {
      "text/plain": [
       "(-75.59415660897409, 6.352238520293559)"
      ]
     },
     "execution_count": 29,
     "metadata": {},
     "output_type": "execute_result"
    }
   ],
   "source": [
    "xrand = random.uniform(xmin, xmax)\n",
    "yrand = random.uniform(ymin, ymax)\n",
    "xrand.values[0], yrand.values[0]"
   ]
  },
  {
   "cell_type": "code",
   "execution_count": 30,
   "metadata": {
    "scrolled": true
   },
   "outputs": [
    {
     "data": {
      "text/html": [
       "<div>\n",
       "<style scoped>\n",
       "    .dataframe tbody tr th:only-of-type {\n",
       "        vertical-align: middle;\n",
       "    }\n",
       "\n",
       "    .dataframe tbody tr th {\n",
       "        vertical-align: top;\n",
       "    }\n",
       "\n",
       "    .dataframe thead th {\n",
       "        text-align: right;\n",
       "    }\n",
       "</style>\n",
       "<table border=\"1\" class=\"dataframe\">\n",
       "  <thead>\n",
       "    <tr style=\"text-align: right;\">\n",
       "      <th></th>\n",
       "      <th>x</th>\n",
       "      <th>y</th>\n",
       "    </tr>\n",
       "  </thead>\n",
       "  <tbody>\n",
       "    <tr>\n",
       "      <th>0</th>\n",
       "      <td>-75.586416</td>\n",
       "      <td>6.406670</td>\n",
       "    </tr>\n",
       "    <tr>\n",
       "      <th>1</th>\n",
       "      <td>-75.572516</td>\n",
       "      <td>6.334073</td>\n",
       "    </tr>\n",
       "    <tr>\n",
       "      <th>2</th>\n",
       "      <td>-75.662488</td>\n",
       "      <td>6.372580</td>\n",
       "    </tr>\n",
       "    <tr>\n",
       "      <th>3</th>\n",
       "      <td>-75.536885</td>\n",
       "      <td>6.346859</td>\n",
       "    </tr>\n",
       "    <tr>\n",
       "      <th>4</th>\n",
       "      <td>-75.601317</td>\n",
       "      <td>6.397055</td>\n",
       "    </tr>\n",
       "    <tr>\n",
       "      <th>...</th>\n",
       "      <td>...</td>\n",
       "      <td>...</td>\n",
       "    </tr>\n",
       "    <tr>\n",
       "      <th>282</th>\n",
       "      <td>-75.587437</td>\n",
       "      <td>6.348064</td>\n",
       "    </tr>\n",
       "    <tr>\n",
       "      <th>283</th>\n",
       "      <td>-75.587259</td>\n",
       "      <td>6.397016</td>\n",
       "    </tr>\n",
       "    <tr>\n",
       "      <th>284</th>\n",
       "      <td>-75.581426</td>\n",
       "      <td>6.340487</td>\n",
       "    </tr>\n",
       "    <tr>\n",
       "      <th>285</th>\n",
       "      <td>-75.580377</td>\n",
       "      <td>6.399657</td>\n",
       "    </tr>\n",
       "    <tr>\n",
       "      <th>286</th>\n",
       "      <td>-75.529777</td>\n",
       "      <td>6.364273</td>\n",
       "    </tr>\n",
       "  </tbody>\n",
       "</table>\n",
       "<p>287 rows × 2 columns</p>\n",
       "</div>"
      ],
      "text/plain": [
       "             x         y\n",
       "0   -75.586416  6.406670\n",
       "1   -75.572516  6.334073\n",
       "2   -75.662488  6.372580\n",
       "3   -75.536885  6.346859\n",
       "4   -75.601317  6.397055\n",
       "..         ...       ...\n",
       "282 -75.587437  6.348064\n",
       "283 -75.587259  6.397016\n",
       "284 -75.581426  6.340487\n",
       "285 -75.580377  6.399657\n",
       "286 -75.529777  6.364273\n",
       "\n",
       "[287 rows x 2 columns]"
      ]
     },
     "execution_count": 30,
     "metadata": {},
     "output_type": "execute_result"
    }
   ],
   "source": [
    "random_points = pd.DataFrame()\n",
    "\n",
    "random_x=[]\n",
    "random_y=[]\n",
    "\n",
    "for i in range(500):\n",
    "    xrand = random.uniform(xmin, xmax)\n",
    "    yrand = random.uniform(ymin, ymax)\n",
    "    point=Point(xrand.values[0], yrand.values[0])\n",
    "    if bello_map.geometry.contains(point).values[0]==True:\n",
    "        random_x.append(xrand.values[0])\n",
    "        random_y.append(yrand.values[0])\n",
    "\n",
    "\n",
    "random_points['x']=random_x\n",
    "random_points['y']=random_y\n",
    "random_points"
   ]
  },
  {
   "cell_type": "code",
   "execution_count": null,
   "metadata": {},
   "outputs": [],
   "source": []
  },
  {
   "cell_type": "code",
   "execution_count": 31,
   "metadata": {},
   "outputs": [],
   "source": [
    "puntos = gpd.GeoDataFrame(random_points, geometry=gpd.points_from_xy(random_points.x, random_points.y))"
   ]
  },
  {
   "cell_type": "code",
   "execution_count": 32,
   "metadata": {
    "scrolled": true
   },
   "outputs": [
    {
     "data": {
      "image/png": "[encoded data removed]",
      "text/plain": [
       "<Figure size 720x720 with 1 Axes>"
      ]
     },
     "metadata": {
      "needs_background": "light"
     },
     "output_type": "display_data"
    }
   ],
   "source": [
    "n1=len(random_points)//4\n",
    "n2=len(random_points)//2\n",
    "n3=3*len(random_points)//4\n",
    "\n",
    "ax = bello_map.plot(color='white', edgecolor='black', figsize=(10, 10))\n",
    "puntos[:n1-1].plot(ax=ax, color='red', label='Residential')\n",
    "puntos[n1:n2-2].plot(ax=ax, color='blue', label='Study')\n",
    "puntos[n2:n3-1].plot(ax=ax, color='green', label='Work')\n",
    "puntos[n3:].plot(ax=ax, color='yellow', label='Other')\n",
    "ax.legend()\n",
    "plt.show()\n",
    "ax.figure.savefig('mapa.png')"
   ]
  },
  {
   "cell_type": "code",
   "execution_count": 33,
   "metadata": {},
   "outputs": [
    {
     "data": {
      "text/plain": [
       "(-75.59252525335937, 6.33324017823986)"
      ]
     },
     "execution_count": 33,
     "metadata": {},
     "output_type": "execute_result"
    }
   ],
   "source": [
    "xrand = random.uniform(xmin, xmax)\n",
    "yrand = random.uniform(ymin, ymax)\n",
    "xrand.values[0], yrand.values[0]"
   ]
  },
  {
   "cell_type": "code",
   "execution_count": 34,
   "metadata": {},
   "outputs": [
    {
     "data": {
      "text/plain": [
       "numpy.float64"
      ]
     },
     "execution_count": 34,
     "metadata": {},
     "output_type": "execute_result"
    }
   ],
   "source": [
    "type(xrand.values[0])"
   ]
  },
  {
   "cell_type": "code",
   "execution_count": 35,
   "metadata": {},
   "outputs": [
    {
     "ename": "AttributeError",
     "evalue": "'GeometryArray' object has no attribute '_geom'",
     "output_type": "error",
     "traceback": [
      "\u001b[0;31m---------------------------------------------------------------------------\u001b[0m",
      "\u001b[0;31mAttributeError\u001b[0m                            Traceback (most recent call last)",
      "\u001b[0;32m/var/folders/nv/xg8c1lkd4bq4th3rhq8nlglw0000gn/T/ipykernel_8198/3981744547.py\u001b[0m in \u001b[0;36m<module>\u001b[0;34m\u001b[0m\n\u001b[1;32m      1\u001b[0m \u001b[0mxrand\u001b[0m \u001b[0;34m=\u001b[0m \u001b[0mrandom\u001b[0m\u001b[0;34m.\u001b[0m\u001b[0muniform\u001b[0m\u001b[0;34m(\u001b[0m\u001b[0mxmin\u001b[0m\u001b[0;34m,\u001b[0m \u001b[0mxmax\u001b[0m\u001b[0;34m)\u001b[0m\u001b[0;34m\u001b[0m\u001b[0;34m\u001b[0m\u001b[0m\n\u001b[1;32m      2\u001b[0m \u001b[0myrand\u001b[0m \u001b[0;34m=\u001b[0m \u001b[0mrandom\u001b[0m\u001b[0;34m.\u001b[0m\u001b[0muniform\u001b[0m\u001b[0;34m(\u001b[0m\u001b[0mymin\u001b[0m\u001b[0;34m,\u001b[0m \u001b[0mymax\u001b[0m\u001b[0;34m)\u001b[0m\u001b[0;34m\u001b[0m\u001b[0;34m\u001b[0m\u001b[0m\n\u001b[0;32m----> 3\u001b[0;31m \u001b[0mPoint\u001b[0m\u001b[0;34m(\u001b[0m\u001b[0mxrand\u001b[0m\u001b[0;34m,\u001b[0m\u001b[0myrand\u001b[0m\u001b[0;34m)\u001b[0m\u001b[0;34m.\u001b[0m\u001b[0mwithin\u001b[0m\u001b[0;34m(\u001b[0m\u001b[0mbello_map\u001b[0m\u001b[0;34m.\u001b[0m\u001b[0mgeometry\u001b[0m\u001b[0;34m.\u001b[0m\u001b[0mvalues\u001b[0m\u001b[0;34m)\u001b[0m\u001b[0;34m\u001b[0m\u001b[0;34m\u001b[0m\u001b[0m\n\u001b[0m",
      "\u001b[0;32m/opt/anaconda3/envs/pi_env/lib/python3.9/site-packages/shapely/geometry/base.py\u001b[0m in \u001b[0;36mwithin\u001b[0;34m(self, other)\u001b[0m\n\u001b[1;32m    777\u001b[0m     \u001b[0;32mdef\u001b[0m \u001b[0mwithin\u001b[0m\u001b[0;34m(\u001b[0m\u001b[0mself\u001b[0m\u001b[0;34m,\u001b[0m \u001b[0mother\u001b[0m\u001b[0;34m)\u001b[0m\u001b[0;34m:\u001b[0m\u001b[0;34m\u001b[0m\u001b[0;34m\u001b[0m\u001b[0m\n\u001b[1;32m    778\u001b[0m         \u001b[0;34m\"\"\"Returns True if geometry is within the other, else False\"\"\"\u001b[0m\u001b[0;34m\u001b[0m\u001b[0;34m\u001b[0m\u001b[0m\n\u001b[0;32m--> 779\u001b[0;31m         \u001b[0;32mreturn\u001b[0m \u001b[0mbool\u001b[0m\u001b[0;34m(\u001b[0m\u001b[0mself\u001b[0m\u001b[0;34m.\u001b[0m\u001b[0mimpl\u001b[0m\u001b[0;34m[\u001b[0m\u001b[0;34m'within'\u001b[0m\u001b[0;34m]\u001b[0m\u001b[0;34m(\u001b[0m\u001b[0mself\u001b[0m\u001b[0;34m,\u001b[0m \u001b[0mother\u001b[0m\u001b[0;34m)\u001b[0m\u001b[0;34m)\u001b[0m\u001b[0;34m\u001b[0m\u001b[0;34m\u001b[0m\u001b[0m\n\u001b[0m\u001b[1;32m    780\u001b[0m \u001b[0;34m\u001b[0m\u001b[0m\n\u001b[1;32m    781\u001b[0m     \u001b[0;32mdef\u001b[0m \u001b[0mequals_exact\u001b[0m\u001b[0;34m(\u001b[0m\u001b[0mself\u001b[0m\u001b[0;34m,\u001b[0m \u001b[0mother\u001b[0m\u001b[0;34m,\u001b[0m \u001b[0mtolerance\u001b[0m\u001b[0;34m)\u001b[0m\u001b[0;34m:\u001b[0m\u001b[0;34m\u001b[0m\u001b[0;34m\u001b[0m\u001b[0m\n",
      "\u001b[0;32m/opt/anaconda3/envs/pi_env/lib/python3.9/site-packages/shapely/predicates.py\u001b[0m in \u001b[0;36m__call__\u001b[0;34m(self, this, other, *args)\u001b[0m\n\u001b[1;32m     11\u001b[0m     \u001b[0;32mdef\u001b[0m \u001b[0m__call__\u001b[0m\u001b[0;34m(\u001b[0m\u001b[0mself\u001b[0m\u001b[0;34m,\u001b[0m \u001b[0mthis\u001b[0m\u001b[0;34m,\u001b[0m \u001b[0mother\u001b[0m\u001b[0;34m,\u001b[0m \u001b[0;34m*\u001b[0m\u001b[0margs\u001b[0m\u001b[0;34m)\u001b[0m\u001b[0;34m:\u001b[0m\u001b[0;34m\u001b[0m\u001b[0;34m\u001b[0m\u001b[0m\n\u001b[1;32m     12\u001b[0m         \u001b[0mself\u001b[0m\u001b[0;34m.\u001b[0m\u001b[0m_validate\u001b[0m\u001b[0;34m(\u001b[0m\u001b[0mthis\u001b[0m\u001b[0;34m)\u001b[0m\u001b[0;34m\u001b[0m\u001b[0;34m\u001b[0m\u001b[0m\n\u001b[0;32m---> 13\u001b[0;31m         \u001b[0mself\u001b[0m\u001b[0;34m.\u001b[0m\u001b[0m_validate\u001b[0m\u001b[0;34m(\u001b[0m\u001b[0mother\u001b[0m\u001b[0;34m,\u001b[0m \u001b[0mstop_prepared\u001b[0m\u001b[0;34m=\u001b[0m\u001b[0;32mTrue\u001b[0m\u001b[0;34m)\u001b[0m\u001b[0;34m\u001b[0m\u001b[0;34m\u001b[0m\u001b[0m\n\u001b[0m\u001b[1;32m     14\u001b[0m         \u001b[0;32mtry\u001b[0m\u001b[0;34m:\u001b[0m\u001b[0;34m\u001b[0m\u001b[0;34m\u001b[0m\u001b[0m\n\u001b[1;32m     15\u001b[0m             \u001b[0;32mreturn\u001b[0m \u001b[0mself\u001b[0m\u001b[0;34m.\u001b[0m\u001b[0mfn\u001b[0m\u001b[0;34m(\u001b[0m\u001b[0mthis\u001b[0m\u001b[0;34m.\u001b[0m\u001b[0m_geom\u001b[0m\u001b[0;34m,\u001b[0m \u001b[0mother\u001b[0m\u001b[0;34m.\u001b[0m\u001b[0m_geom\u001b[0m\u001b[0;34m,\u001b[0m \u001b[0;34m*\u001b[0m\u001b[0margs\u001b[0m\u001b[0;34m)\u001b[0m\u001b[0;34m\u001b[0m\u001b[0;34m\u001b[0m\u001b[0m\n",
      "\u001b[0;32m/opt/anaconda3/envs/pi_env/lib/python3.9/site-packages/shapely/topology.py\u001b[0m in \u001b[0;36m_validate\u001b[0;34m(self, ob, stop_prepared)\u001b[0m\n\u001b[1;32m     15\u001b[0m \u001b[0;34m\u001b[0m\u001b[0m\n\u001b[1;32m     16\u001b[0m     \u001b[0;32mdef\u001b[0m \u001b[0m_validate\u001b[0m\u001b[0;34m(\u001b[0m\u001b[0mself\u001b[0m\u001b[0;34m,\u001b[0m \u001b[0mob\u001b[0m\u001b[0;34m,\u001b[0m \u001b[0mstop_prepared\u001b[0m\u001b[0;34m=\u001b[0m\u001b[0;32mFalse\u001b[0m\u001b[0;34m)\u001b[0m\u001b[0;34m:\u001b[0m\u001b[0;34m\u001b[0m\u001b[0;34m\u001b[0m\u001b[0m\n\u001b[0;32m---> 17\u001b[0;31m         \u001b[0;32mif\u001b[0m \u001b[0mob\u001b[0m \u001b[0;32mis\u001b[0m \u001b[0;32mNone\u001b[0m \u001b[0;32mor\u001b[0m \u001b[0mob\u001b[0m\u001b[0;34m.\u001b[0m\u001b[0m_geom\u001b[0m \u001b[0;32mis\u001b[0m \u001b[0;32mNone\u001b[0m\u001b[0;34m:\u001b[0m\u001b[0;34m\u001b[0m\u001b[0;34m\u001b[0m\u001b[0m\n\u001b[0m\u001b[1;32m     18\u001b[0m             \u001b[0;32mraise\u001b[0m \u001b[0mValueError\u001b[0m\u001b[0;34m(\u001b[0m\u001b[0;34m\"Null geometry supports no operations\"\u001b[0m\u001b[0;34m)\u001b[0m\u001b[0;34m\u001b[0m\u001b[0;34m\u001b[0m\u001b[0m\n\u001b[1;32m     19\u001b[0m         \u001b[0;32mif\u001b[0m \u001b[0mstop_prepared\u001b[0m \u001b[0;32mand\u001b[0m \u001b[0mhasattr\u001b[0m\u001b[0;34m(\u001b[0m\u001b[0mob\u001b[0m\u001b[0;34m,\u001b[0m \u001b[0;34m'prepared'\u001b[0m\u001b[0;34m)\u001b[0m\u001b[0;34m:\u001b[0m\u001b[0;34m\u001b[0m\u001b[0;34m\u001b[0m\u001b[0m\n",
      "\u001b[0;31mAttributeError\u001b[0m: 'GeometryArray' object has no attribute '_geom'"
     ]
    }
   ],
   "source": [
    "xrand = random.uniform(xmin, xmax)\n",
    "yrand = random.uniform(ymin, ymax)\n",
    "Point(xrand,yrand).within(bello_map.geometry.values)"
   ]
  },
  {
   "cell_type": "code",
   "execution_count": null,
   "metadata": {},
   "outputs": [],
   "source": []
  },
  {
   "cell_type": "code",
   "execution_count": null,
   "metadata": {},
   "outputs": [],
   "source": []
  },
  {
   "cell_type": "code",
   "execution_count": null,
   "metadata": {},
   "outputs": [],
   "source": []
  },
  {
   "cell_type": "code",
   "execution_count": null,
   "metadata": {},
   "outputs": [],
   "source": []
  },
  {
   "cell_type": "markdown",
   "metadata": {},
   "source": [
    "# Model Implementation"
   ]
  },
  {
   "cell_type": "code",
   "execution_count": null,
   "metadata": {},
   "outputs": [],
   "source": []
  },
  {
   "cell_type": "code",
   "execution_count": null,
   "metadata": {},
   "outputs": [],
   "source": []
  },
  {
   "cell_type": "code",
   "execution_count": null,
   "metadata": {},
   "outputs": [],
   "source": []
  },
  {
   "cell_type": "code",
   "execution_count": null,
   "metadata": {},
   "outputs": [],
   "source": []
  },
  {
   "cell_type": "code",
   "execution_count": null,
   "metadata": {},
   "outputs": [],
   "source": []
  }
 ],
 "metadata": {
  "kernelspec": {
   "display_name": "Python 3 (ipykernel)",
   "language": "python",
   "name": "python3"
  },
  "language_info": {
   "codemirror_mode": {
    "name": "ipython",
    "version": 3
   },
   "file_extension": ".py",
   "mimetype": "text/x-python",
   "name": "python",
   "nbconvert_exporter": "python",
   "pygments_lexer": "ipython3",
   "version": "3.9.7"
  }
 },
 "nbformat": 4,
 "nbformat_minor": 4
}
